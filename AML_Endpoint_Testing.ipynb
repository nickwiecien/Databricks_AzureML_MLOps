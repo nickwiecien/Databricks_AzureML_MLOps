{
 "cells": [
  {
   "cell_type": "markdown",
   "metadata": {
    "application/vnd.databricks.v1+cell": {
     "cellMetadata": {
      "byteLimit": 2048000,
      "rowLimit": 10000
     },
     "inputWidgets": {},
     "nuid": "bec6e6d1-1281-4429-8b07-23225b974ca9",
     "showTitle": false,
     "title": ""
    }
   },
   "source": [
    "## Azure Databricks / Azure Machine Learning Sample - Model Endpoint Testing\n",
    "\n",
    "Sample notebook showcasing how to submit multiple requests to an Azure Machine Learning Managed Online Endpoint for real-time data scoring."
   ]
  },
  {
   "cell_type": "markdown",
   "metadata": {
    "application/vnd.databricks.v1+cell": {
     "cellMetadata": {
      "byteLimit": 2048000,
      "rowLimit": 10000
     },
     "inputWidgets": {},
     "nuid": "9f17e340-cb50-4d86-ad11-1c23fd5ee9fe",
     "showTitle": false,
     "title": ""
    }
   },
   "source": [
    "### Import required packages"
   ]
  },
  {
   "cell_type": "code",
   "execution_count": 0,
   "metadata": {
    "application/vnd.databricks.v1+cell": {
     "cellMetadata": {
      "byteLimit": 2048000,
      "rowLimit": 10000
     },
     "inputWidgets": {},
     "nuid": "ebae39e5-1bc5-44f7-b102-569538023de6",
     "showTitle": false,
     "title": ""
    }
   },
   "outputs": [],
   "source": [
    "import pandas as pd\n",
    "import random\n",
    "import json\n",
    "import requests\n",
    "from concurrent.futures import ThreadPoolExecutor"
   ]
  },
  {
   "cell_type": "markdown",
   "metadata": {
    "application/vnd.databricks.v1+cell": {
     "cellMetadata": {
      "byteLimit": 2048000,
      "rowLimit": 10000
     },
     "inputWidgets": {},
     "nuid": "75e0af5a-c6b4-4c79-a43f-736b6806cf39",
     "showTitle": false,
     "title": ""
    }
   },
   "source": [
    "### Retrieve endpoint URI and key from Databricks secret store"
   ]
  },
  {
   "cell_type": "code",
   "execution_count": 0,
   "metadata": {
    "application/vnd.databricks.v1+cell": {
     "cellMetadata": {
      "byteLimit": 2048000,
      "rowLimit": 10000
     },
     "inputWidgets": {},
     "nuid": "6294fa60-fb7e-433c-9a79-6c2e14d698ea",
     "showTitle": false,
     "title": ""
    }
   },
   "outputs": [],
   "source": [
    "aml_endpoint_uri = dbutils.secrets.get(scope=\"amlsecretscope\",key=\"amlendpointuri\")\n",
    "aml_endpoint_key = dbutils.secrets.get(scope=\"amlsecretscope\",key=\"amlendpointkey\")"
   ]
  },
  {
   "cell_type": "markdown",
   "metadata": {
    "application/vnd.databricks.v1+cell": {
     "cellMetadata": {
      "byteLimit": 2048000,
      "rowLimit": 10000
     },
     "inputWidgets": {},
     "nuid": "58e034b7-2755-4519-9627-20f82cca890f",
     "showTitle": false,
     "title": ""
    }
   },
   "source": [
    "### Sample data + modification function\n",
    "\n",
    "Example of data in the appropriate format for endpoint submission. Helper function modify numerical values slightly prior to scoring."
   ]
  },
  {
   "cell_type": "code",
   "execution_count": 0,
   "metadata": {
    "application/vnd.databricks.v1+cell": {
     "cellMetadata": {
      "byteLimit": 2048000,
      "rowLimit": 10000
     },
     "inputWidgets": {},
     "nuid": "4b132f91-8a21-4015-bf2f-0d81235730d2",
     "showTitle": false,
     "title": ""
    }
   },
   "outputs": [],
   "source": [
    "def modify_data(sample_data):\n",
    "    for i in range(len(sample_data['input_data']['data'])):\n",
    "        for j in range(len(sample_data['input_data']['data'][i])):\n",
    "            if isinstance(sample_data['input_data']['data'][i][j], (int, float)):\n",
    "                sample_data['input_data']['data'][i][j] = sample_data['input_data']['data'][i][j] * random.uniform(0.75, 1.25)\n",
    "    return sample_data\n",
    "\n",
    "sample_data = {\n",
    "  \"input_data\": {\"index\": [0,1,2],\n",
    "  \"columns\": [\"age\", \"sex\", \"bmi\", \"bp\", \"s1\", \"s2\", \"s3\", \"s4\", \"s5\", \"s6\"],\n",
    "  \"data\": [[0.00538306037424807,\n",
    "    -0.044641636506989,\n",
    "    -0.0482406250171634,\n",
    "    -0.0125563519424068,\n",
    "    0.00118294589619092,\n",
    "    -0.00663740127664067,\n",
    "    0.0633666506664982,\n",
    "    -0.0394933828740919,\n",
    "    -0.0514005352605825,\n",
    "    -0.0590671943081523],\n",
    "   [0.0126481372762872,\n",
    "    0.0506801187398187,\n",
    "    0.000260918307477141,\n",
    "    -0.0114087283893043,\n",
    "    0.0397096259258226,\n",
    "    0.0572448849284239,\n",
    "    -0.0397192078479398,\n",
    "    0.0560805201945126,\n",
    "    0.024052583226893,\n",
    "    0.0320591578182113],\n",
    "   [0.0380759064334241,\n",
    "    0.0506801187398187,\n",
    "    0.00888341489852436,\n",
    "    0.0425295791573734,\n",
    "    -0.0428475455662452,\n",
    "    -0.0210422305189592,\n",
    "    -0.0397192078479398,\n",
    "    -0.00259226199818282,\n",
    "    -0.0181182673078967,\n",
    "    0.00720651632920303]]}\n",
    "}\n",
    "\n",
    "modify_data(sample_data)"
   ]
  },
  {
   "cell_type": "markdown",
   "metadata": {
    "application/vnd.databricks.v1+cell": {
     "cellMetadata": {
      "byteLimit": 2048000,
      "rowLimit": 10000
     },
     "inputWidgets": {},
     "nuid": "dbd15c4b-e58b-4c75-a01e-45c70dcb2bb2",
     "showTitle": false,
     "title": ""
    }
   },
   "source": [
    "### Endpoint request submission\n",
    "\n",
    "Sample code for submitting multiple requests to the endpoint"
   ]
  },
  {
   "cell_type": "code",
   "execution_count": 0,
   "metadata": {
    "application/vnd.databricks.v1+cell": {
     "cellMetadata": {
      "byteLimit": 2048000,
      "rowLimit": 10000
     },
     "inputWidgets": {},
     "nuid": "73f0ed6c-ff8e-441a-94b0-9ea64d2c17e8",
     "showTitle": false,
     "title": ""
    }
   },
   "outputs": [],
   "source": [
    "def send_request(url, data, headers):\n",
    "    mod_data = modify_data(data)\n",
    "    response = requests.post(url, data=json.dumps(mod_data), headers=headers)\n",
    "    print(response)\n",
    "    try:\n",
    "        print(response.json())\n",
    "    except Exception as e:\n",
    "        pass\n",
    "    return response\n",
    "\n",
    "urls = [aml_endpoint_uri] * 100\n",
    "data = sample_data\n",
    "headers = {'Content-Type':'application/json', 'Authorization':('Bearer '+ aml_endpoint_key)}\n",
    "\n",
    "\n",
    "with ThreadPoolExecutor(max_workers=1) as executor:\n",
    "    results = list(executor.map(send_request, urls, [data] * len(urls), [headers] * len(urls)))"
   ]
  }
 ],
 "metadata": {
  "application/vnd.databricks.v1+notebook": {
   "dashboards": [],
   "language": "python",
   "notebookMetadata": {
    "pythonIndentUnit": 4
   },
   "notebookName": "AML_Endpoint_Testing",
   "notebookOrigID": 2600742169461739,
   "widgets": {}
  }
 },
 "nbformat": 4,
 "nbformat_minor": 0
}
