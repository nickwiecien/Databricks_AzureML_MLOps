{
 "cells": [
  {
   "cell_type": "markdown",
   "metadata": {
    "application/vnd.databricks.v1+cell": {
     "cellMetadata": {
      "byteLimit": 2048000,
      "rowLimit": 10000
     },
     "inputWidgets": {},
     "nuid": "388e3ffa-563f-4cfa-b269-c42e0fa3d16f",
     "showTitle": false,
     "title": ""
    }
   },
   "source": [
    "## Azure Databricks / Azure Machine Learning Sample - Notebook Orchestration\n",
    "\n",
    "Sample Azure Databricks notebook which runs additional notebooks to simulate a DevOps build/release execution pattern"
   ]
  },
  {
   "cell_type": "markdown",
   "metadata": {
    "application/vnd.databricks.v1+cell": {
     "cellMetadata": {
      "byteLimit": 2048000,
      "rowLimit": 10000
     },
     "inputWidgets": {},
     "nuid": "c9fb64d6-01ad-41db-bd5a-4fc44a3cb297",
     "showTitle": false,
     "title": ""
    }
   },
   "source": [
    "#### Define parameters and notebook paths"
   ]
  },
  {
   "cell_type": "code",
   "execution_count": 0,
   "metadata": {
    "application/vnd.databricks.v1+cell": {
     "cellMetadata": {
      "byteLimit": 2048000,
      "rowLimit": 10000
     },
     "inputWidgets": {},
     "nuid": "99a0d632-0341-42a3-bb24-1dd5f5c5804c",
     "showTitle": false,
     "title": ""
    }
   },
   "outputs": [],
   "source": [
    "train_register_deploy_notebook_path = \"/Users/<USERNAME>/AML_Train_Register_Deploy\"  \n",
    "update_deployment_notebook_path = \"/Users/<USERNAME>/AML_Update_Deployment\"  \n",
    "\n",
    "parameters = {  \n",
    "    \"subscription_id\": \"<SUBSCRIPTION_ID>\",  \n",
    "    \"resource_group\": \"<RESOURCE_GROUP>\", \n",
    "    \"workspace\": \"<AML_WORKSPACE_NAME>\",  \n",
    "    \"model_name\": \"DEV-diabetes-model\", \n",
    "    \"endpoint_name\": \"DEV-diabetes-endpoint\",  \n",
    "    \"endpoint_description\": \"Regression model for predicting disease pregression\", \n",
    "}"
   ]
  },
  {
   "cell_type": "markdown",
   "metadata": {
    "application/vnd.databricks.v1+cell": {
     "cellMetadata": {
      "byteLimit": 2048000,
      "rowLimit": 10000
     },
     "inputWidgets": {},
     "nuid": "618d15c8-1a11-4dd9-b854-5dffd5a5144d",
     "showTitle": false,
     "title": ""
    }
   },
   "source": [
    "#### Update cluster environment variables"
   ]
  },
  {
   "cell_type": "code",
   "execution_count": 0,
   "metadata": {
    "application/vnd.databricks.v1+cell": {
     "cellMetadata": {
      "byteLimit": 2048000,
      "rowLimit": 10000
     },
     "inputWidgets": {},
     "nuid": "cbc77f83-1930-41a8-923b-a2a4c1c279b6",
     "showTitle": false,
     "title": ""
    }
   },
   "outputs": [],
   "source": [
    "import os\n",
    "\n",
    "tenant_id = dbutils.secrets.get(scope=\"amlsecretscope\",key=\"tenantid\")\n",
    "client_id = dbutils.secrets.get(scope=\"amlsecretscope\",key=\"clientid\")\n",
    "client_secret = dbutils.secrets.get(scope=\"amlsecretscope\",key=\"clientsecret\")\n",
    "\n",
    "os.environ[\"AZURE_TENANT_ID\"] = tenant_id\n",
    "os.environ[\"AZURE_CLIENT_ID\"] = client_id\n",
    "os.environ[\"AZURE_CLIENT_SECRET\"] = client_secret\n"
   ]
  },
  {
   "cell_type": "markdown",
   "metadata": {
    "application/vnd.databricks.v1+cell": {
     "cellMetadata": {
      "byteLimit": 2048000,
      "rowLimit": 10000
     },
     "inputWidgets": {},
     "nuid": "e47e9f76-6c89-4931-9a40-aee527f4ceea",
     "showTitle": false,
     "title": ""
    }
   },
   "source": [
    "#### Run notebooks"
   ]
  },
  {
   "cell_type": "code",
   "execution_count": 0,
   "metadata": {
    "application/vnd.databricks.v1+cell": {
     "cellMetadata": {
      "byteLimit": 2048000,
      "rowLimit": 10000
     },
     "inputWidgets": {},
     "nuid": "120716b3-3ef7-485f-9455-fa7fdfa279c7",
     "showTitle": false,
     "title": ""
    }
   },
   "outputs": [],
   "source": [
    "train_result = dbutils.notebook.run(train_register_deploy_notebook_path, timeout_seconds=1500, arguments=parameters)\n",
    "update_deployment_result = dbutils.notebook.run(update_deployment_notebook_path, timeout_seconds=1500, arguments=parameters)"
   ]
  }
 ],
 "metadata": {
  "application/vnd.databricks.v1+notebook": {
   "dashboards": [],
   "language": "python",
   "notebookMetadata": {
    "pythonIndentUnit": 4
   },
   "notebookName": "DBX_AML_Orchestration",
   "notebookOrigID": 3072769667035876,
   "widgets": {}
  }
 },
 "nbformat": 4,
 "nbformat_minor": 0
}
